{
  "nbformat": 4,
  "nbformat_minor": 0,
  "metadata": {
    "colab": {
      "provenance": []
    },
    "kernelspec": {
      "name": "python3",
      "display_name": "Python 3"
    },
    "language_info": {
      "name": "python"
    }
  },
  "cells": [
    {
      "cell_type": "markdown",
      "source": [
        "6) Write a code to create a list with numbers 1 to 5 and print it?"
      ],
      "metadata": {
        "id": "PqgA0yw8E5zy"
      }
    },
    {
      "cell_type": "code",
      "execution_count": null,
      "metadata": {
        "colab": {
          "base_uri": "https://localhost:8080/"
        },
        "id": "SMT9TBsjHHN8",
        "outputId": "159489f4-24b2-4709-fe1f-64aa191056ff"
      },
      "outputs": [
        {
          "output_type": "stream",
          "name": "stdout",
          "text": [
            "[1, 2, 3, 4, 5]\n"
          ]
        }
      ],
      "source": [
        "numbers = list(range(1, 6))\n",
        "print(numbers)"
      ]
    },
    {
      "cell_type": "markdown",
      "source": [
        "7) Write a code to append the number 10 to the list [1, 2, 3, 4]?"
      ],
      "metadata": {
        "id": "2QL24ItHH5gp"
      }
    },
    {
      "cell_type": "code",
      "source": [
        "Num = [1,2,3,4]\n",
        "Num.append(10)\n",
        "print(Num)"
      ],
      "metadata": {
        "colab": {
          "base_uri": "https://localhost:8080/"
        },
        "id": "WqiYOt-HHadV",
        "outputId": "51fc3ecc-b6fe-4bc8-b95a-4ffa9c3dcaf3"
      },
      "execution_count": null,
      "outputs": [
        {
          "output_type": "stream",
          "name": "stdout",
          "text": [
            "[1, 2, 3, 4, 10]\n"
          ]
        }
      ]
    },
    {
      "cell_type": "markdown",
      "source": [
        "8) Write a code to remove the number 3 from the list [1, 2, 3, 4, 5]?"
      ],
      "metadata": {
        "id": "C4-2cSnTIRVY"
      }
    },
    {
      "cell_type": "code",
      "source": [
        "num = [1, 2, 3, 4, 5]\n",
        "num.remove(3)\n",
        "print(num)"
      ],
      "metadata": {
        "colab": {
          "base_uri": "https://localhost:8080/"
        },
        "id": "hMkh8AnoIOvx",
        "outputId": "c5cb8b93-98a3-4056-abcf-36e134bfb72d"
      },
      "execution_count": null,
      "outputs": [
        {
          "output_type": "stream",
          "name": "stdout",
          "text": [
            "[1, 2, 4, 5]\n"
          ]
        }
      ]
    },
    {
      "cell_type": "markdown",
      "source": [
        "9) Write a code to access the second element in the list ['a', 'b', 'c', 'd']."
      ],
      "metadata": {
        "id": "lmsaQZ2DIpnz"
      }
    },
    {
      "cell_type": "code",
      "source": [
        "elements = ['a', 'b', 'c', 'd']\n",
        "print(elements[1])"
      ],
      "metadata": {
        "colab": {
          "base_uri": "https://localhost:8080/"
        },
        "id": "Y-sqJ8D-Im3-",
        "outputId": "e4a3d8dc-d8df-4b5b-ef00-3dd5f2d09053"
      },
      "execution_count": null,
      "outputs": [
        {
          "output_type": "stream",
          "name": "stdout",
          "text": [
            "b\n"
          ]
        }
      ]
    },
    {
      "cell_type": "markdown",
      "source": [
        "10) Write a code to reverse the list [10, 20, 30, 40, 50]."
      ],
      "metadata": {
        "id": "Rlgbj_ZLJMYG"
      }
    },
    {
      "cell_type": "code",
      "source": [
        "my_list = [10, 20, 30, 40, 50]\n",
        "my_list.reverse()\n",
        "print(my_list)"
      ],
      "metadata": {
        "colab": {
          "base_uri": "https://localhost:8080/"
        },
        "id": "8IRRPVTNJKBg",
        "outputId": "e8951833-9f31-4d22-95aa-99338117c5e6"
      },
      "execution_count": null,
      "outputs": [
        {
          "output_type": "stream",
          "name": "stdout",
          "text": [
            "[50, 40, 30, 20, 10]\n"
          ]
        }
      ]
    },
    {
      "cell_type": "markdown",
      "source": [
        "11) Write a code to create a tuple with the elements 100, 200, 300 and print it."
      ],
      "metadata": {
        "id": "r4HJBtuBo5pE"
      }
    },
    {
      "cell_type": "code",
      "source": [
        "elements = (100, 200, 300)\n",
        "print(elements)"
      ],
      "metadata": {
        "id": "VPkv2Dm0JuEZ",
        "colab": {
          "base_uri": "https://localhost:8080/"
        },
        "outputId": "8ca5f273-8856-4620-ddd6-b874ca6b8431"
      },
      "execution_count": 3,
      "outputs": [
        {
          "output_type": "stream",
          "name": "stdout",
          "text": [
            "(100, 200, 300)\n"
          ]
        }
      ]
    },
    {
      "cell_type": "code",
      "source": [
        "type(elements)"
      ],
      "metadata": {
        "colab": {
          "base_uri": "https://localhost:8080/"
        },
        "id": "JpdIs2qnpL22",
        "outputId": "1e31aca5-287d-45e6-a2d0-ca5d88b79443"
      },
      "execution_count": 4,
      "outputs": [
        {
          "output_type": "execute_result",
          "data": {
            "text/plain": [
              "tuple"
            ]
          },
          "metadata": {},
          "execution_count": 4
        }
      ]
    },
    {
      "cell_type": "markdown",
      "source": [
        "12)  Write a code to access the second-to-last element of the tuple ('red', 'green', 'blue', 'yellow')."
      ],
      "metadata": {
        "id": "JNF-gGippeIy"
      }
    },
    {
      "cell_type": "code",
      "source": [
        "my_tuple =('red', 'green', 'blue', 'yellow')\n",
        "print(my_tuple[1:])"
      ],
      "metadata": {
        "colab": {
          "base_uri": "https://localhost:8080/"
        },
        "id": "CF-E4yDPpYW6",
        "outputId": "a2656e54-3525-4b3c-ca56-f47c70742f2e"
      },
      "execution_count": 8,
      "outputs": [
        {
          "output_type": "stream",
          "name": "stdout",
          "text": [
            "('green', 'blue', 'yellow')\n"
          ]
        }
      ]
    },
    {
      "cell_type": "markdown",
      "source": [
        "13) Write a code to find the minimum number in the tuple (10, 20, 5, 15).\n"
      ],
      "metadata": {
        "id": "lfPtsn-DqNPh"
      }
    },
    {
      "cell_type": "code",
      "source": [
        "number = (10, 20, 5, 15)\n",
        "min_num = min(number)\n",
        "print(min_num)"
      ],
      "metadata": {
        "colab": {
          "base_uri": "https://localhost:8080/"
        },
        "id": "RQusMDI7qwqm",
        "outputId": "10acd6c4-b3c7-4876-e9aa-50965624912b"
      },
      "execution_count": 14,
      "outputs": [
        {
          "output_type": "stream",
          "name": "stdout",
          "text": [
            "5\n"
          ]
        }
      ]
    },
    {
      "cell_type": "markdown",
      "source": [
        "14)  Write a code to find the index of the element \"cat\" in the tuple ('dog', 'cat', 'rabbit')."
      ],
      "metadata": {
        "id": "kBblJS7urvIs"
      }
    },
    {
      "cell_type": "code",
      "source": [
        "my_tuble = ('dog', 'cat', 'rabbit')\n",
        "M = my_tuble.index('cat')\n",
        "print(M)"
      ],
      "metadata": {
        "colab": {
          "base_uri": "https://localhost:8080/"
        },
        "id": "SQh12j53rcRI",
        "outputId": "32d49f80-f9dc-470e-901f-40f9e1534329"
      },
      "execution_count": 17,
      "outputs": [
        {
          "output_type": "stream",
          "name": "stdout",
          "text": [
            "1\n"
          ]
        }
      ]
    },
    {
      "cell_type": "markdown",
      "source": [
        "15)  Write a code to create a tuple containing three different fruits and check if \"kiwi\" is in it."
      ],
      "metadata": {
        "id": "lNHQ8QrhswvL"
      }
    },
    {
      "cell_type": "code",
      "source": [
        "fruits = (\"apple\", \"banana\", \"kiwi\")\n",
        "if \"kiwi\" in fruits:\n",
        "  print(\"yes, kiwi is available\")\n",
        "else:\n",
        "  print(\"no, kiwi is not available\")"
      ],
      "metadata": {
        "colab": {
          "base_uri": "https://localhost:8080/"
        },
        "id": "VOIkzHyusNVT",
        "outputId": "ceb873eb-4f26-4a6e-fe53-1c9011eb91c1"
      },
      "execution_count": 22,
      "outputs": [
        {
          "output_type": "stream",
          "name": "stdout",
          "text": [
            "yes, kiwi is available\n"
          ]
        }
      ]
    },
    {
      "cell_type": "markdown",
      "source": [
        "16) Write a code to create a set with the elements 'a', 'b', 'c' and print it."
      ],
      "metadata": {
        "id": "Q4Mccc5vu1K3"
      }
    },
    {
      "cell_type": "code",
      "source": [
        "ele = {'a', 'b', 'c'}\n",
        "print(ele)"
      ],
      "metadata": {
        "colab": {
          "base_uri": "https://localhost:8080/"
        },
        "id": "HY1YmFIWtfBz",
        "outputId": "d60e0864-074d-47dc-c5bb-e7eceae03d64"
      },
      "execution_count": 23,
      "outputs": [
        {
          "output_type": "stream",
          "name": "stdout",
          "text": [
            "{'c', 'b', 'a'}\n"
          ]
        }
      ]
    },
    {
      "cell_type": "code",
      "source": [
        "type(ele)"
      ],
      "metadata": {
        "colab": {
          "base_uri": "https://localhost:8080/"
        },
        "id": "SqwU89KbvHRw",
        "outputId": "53e99d67-8530-4d0a-a72a-faaef14c058a"
      },
      "execution_count": 24,
      "outputs": [
        {
          "output_type": "execute_result",
          "data": {
            "text/plain": [
              "set"
            ]
          },
          "metadata": {},
          "execution_count": 24
        }
      ]
    },
    {
      "cell_type": "markdown",
      "source": [
        "17) Write a code to clear all elements from the set {1, 2, 3, 4, 5}.\n"
      ],
      "metadata": {
        "id": "WtNQKAlNvNaL"
      }
    },
    {
      "cell_type": "code",
      "source": [
        "number = {1, 2, 3, 4, 5}\n",
        "number.clear()\n",
        "print(number)"
      ],
      "metadata": {
        "colab": {
          "base_uri": "https://localhost:8080/"
        },
        "id": "Cpt68_B8vKdF",
        "outputId": "582202a2-1545-4d5c-d7c2-e9958aeb9166"
      },
      "execution_count": 28,
      "outputs": [
        {
          "output_type": "stream",
          "name": "stdout",
          "text": [
            "set()\n"
          ]
        }
      ]
    },
    {
      "cell_type": "markdown",
      "source": [
        "18) Write a code to remove the element 4 from the set {1, 2, 3, 4}.\n"
      ],
      "metadata": {
        "id": "c8Wc-7cTv1f3"
      }
    },
    {
      "cell_type": "code",
      "source": [
        "elements = {1, 2, 3, 4}\n",
        "elements.remove(4)\n",
        "print(elements)"
      ],
      "metadata": {
        "colab": {
          "base_uri": "https://localhost:8080/"
        },
        "id": "2243YfMDvm1B",
        "outputId": "bbe6556f-7eb3-408f-fac7-b23c803071a1"
      },
      "execution_count": 29,
      "outputs": [
        {
          "output_type": "stream",
          "name": "stdout",
          "text": [
            "{1, 2, 3}\n"
          ]
        }
      ]
    },
    {
      "cell_type": "markdown",
      "source": [
        "19) Write a code to find the union of two sets {1, 2, 3} and {3, 4, 5}"
      ],
      "metadata": {
        "id": "v4rDBK2HwTCc"
      }
    },
    {
      "cell_type": "code",
      "source": [
        "set_1 = {1, 2, 3}\n",
        "set_2 = {3, 4, 5}\n",
        "M = set_1.union(set_2)\n",
        "print(M)"
      ],
      "metadata": {
        "colab": {
          "base_uri": "https://localhost:8080/"
        },
        "id": "ozU7y8vcw1wp",
        "outputId": "4a43fb0d-e2d4-4958-f130-c0a19272993c"
      },
      "execution_count": 34,
      "outputs": [
        {
          "output_type": "stream",
          "name": "stdout",
          "text": [
            "{1, 2, 3, 4, 5}\n"
          ]
        }
      ]
    },
    {
      "cell_type": "markdown",
      "source": [
        "20) Write a code to find the intersection of two sets {1, 2, 3} and {2, 3, 4}.\n"
      ],
      "metadata": {
        "id": "3ceNK8gMyEAF"
      }
    },
    {
      "cell_type": "code",
      "source": [
        "set_1 = {1, 2, 3}\n",
        "set_2 = {2, 3, 4}\n",
        "S = set_1.intersection(set_2)\n",
        "print(S)"
      ],
      "metadata": {
        "colab": {
          "base_uri": "https://localhost:8080/"
        },
        "id": "N_9TkWJgx6xy",
        "outputId": "23c80508-91f8-4012-8bea-61a0ba9bf1f6"
      },
      "execution_count": 35,
      "outputs": [
        {
          "output_type": "stream",
          "name": "stdout",
          "text": [
            "{2, 3}\n"
          ]
        }
      ]
    },
    {
      "cell_type": "markdown",
      "source": [
        "21) Write a code to create a dictionary with the keys \"name\", \"age\", and \"city\", and print it."
      ],
      "metadata": {
        "id": "uY_27oyqC5Yx"
      }
    },
    {
      "cell_type": "code",
      "source": [
        "details = {\"Name\" : \"Sourav\", \"Age\" : 22, \"City\" : \"Indore\"}\n",
        "print(details)"
      ],
      "metadata": {
        "colab": {
          "base_uri": "https://localhost:8080/"
        },
        "id": "F4NEjbCBydvj",
        "outputId": "7f89ad74-ae78-4c9b-d203-44121c5a0c6e"
      },
      "execution_count": 36,
      "outputs": [
        {
          "output_type": "stream",
          "name": "stdout",
          "text": [
            "{'Name': 'Sourav', 'Age': 22, 'City': 'Indore'}\n"
          ]
        }
      ]
    },
    {
      "cell_type": "markdown",
      "source": [
        "22) Write a code to add a new key-value pair \"country\": \"USA\" to the dictionary {'name': 'John', 'age': 25}."
      ],
      "metadata": {
        "id": "J9PBI_6dDp8h"
      }
    },
    {
      "cell_type": "code",
      "source": [
        "info = {'name' : 'john', 'age' : 25}\n",
        "info['country'] = 'USA'\n",
        "print(info)"
      ],
      "metadata": {
        "colab": {
          "base_uri": "https://localhost:8080/"
        },
        "id": "GgWN9sLSDocS",
        "outputId": "ca75de1e-b59f-4be4-bf95-578730fe82c9"
      },
      "execution_count": 37,
      "outputs": [
        {
          "output_type": "stream",
          "name": "stdout",
          "text": [
            "{'name': 'john', 'age': 25, 'country': 'USA'}\n"
          ]
        }
      ]
    },
    {
      "cell_type": "markdown",
      "source": [
        "23) Write a code to access the value associated with the key \"name\" in the dictionary {'name': 'Alice', 'age': 30}."
      ],
      "metadata": {
        "id": "ph1qkWrWERMr"
      }
    },
    {
      "cell_type": "code",
      "source": [
        "info = {'name' : 'alica', 'age' : 30}\n",
        "print(info['name'])"
      ],
      "metadata": {
        "colab": {
          "base_uri": "https://localhost:8080/"
        },
        "id": "GD12se4cEKwR",
        "outputId": "7987c24c-950b-4bf4-efde-e7cee27a2161"
      },
      "execution_count": 38,
      "outputs": [
        {
          "output_type": "stream",
          "name": "stdout",
          "text": [
            "alica\n"
          ]
        }
      ]
    },
    {
      "cell_type": "markdown",
      "source": [
        "24) Write a code to remove the key \"age\" from the dictionary {'name': 'Bob', 'age': 22, 'city': 'New York'}."
      ],
      "metadata": {
        "id": "nP081c5GEtDH"
      }
    },
    {
      "cell_type": "code",
      "source": [
        "ID = {'name': 'Bob', 'age': 22, 'city': 'New York'}\n",
        "ID.pop('age')\n",
        "print(ID)"
      ],
      "metadata": {
        "colab": {
          "base_uri": "https://localhost:8080/"
        },
        "id": "npkkEPn5Eo5N",
        "outputId": "7eb10174-c8cc-4c24-b2f6-e9f87cb8b046"
      },
      "execution_count": 40,
      "outputs": [
        {
          "output_type": "stream",
          "name": "stdout",
          "text": [
            "{'name': 'Bob', 'city': 'New York'}\n"
          ]
        }
      ]
    },
    {
      "cell_type": "markdown",
      "source": [
        "25) Write a code to check if the key \"city\" exists in the dictionary {'name': 'Alice', 'city': 'Paris'}."
      ],
      "metadata": {
        "id": "ELzU-KOYFLtz"
      }
    },
    {
      "cell_type": "code",
      "source": [
        "info = {'name' : 'alice', 'city' : 'paris'}\n",
        "if 'city' in info:\n",
        "  print(\"city is available\")\n",
        "else:\n",
        "  print(\"city is not available\")"
      ],
      "metadata": {
        "colab": {
          "base_uri": "https://localhost:8080/"
        },
        "id": "d8Z-siXAFAJD",
        "outputId": "7cafb371-ea45-4118-ddbf-f94074865282"
      },
      "execution_count": 43,
      "outputs": [
        {
          "output_type": "stream",
          "name": "stdout",
          "text": [
            "city is available\n"
          ]
        }
      ]
    },
    {
      "cell_type": "markdown",
      "source": [
        "26) Write a code to create a list, a tuple, and a dictionary, and print them all."
      ],
      "metadata": {
        "id": "j4yvEdDmGEbK"
      }
    },
    {
      "cell_type": "code",
      "source": [
        "my_list = [1, 2, 3, 4]\n",
        "my_tuple = (1, 2, 3, 4)\n",
        "my_dict = {'a' : 1, 'b' : 2, 'c' : 3}\n",
        "print(my_list)\n",
        "print(my_tuple)\n",
        "print(my_dict)"
      ],
      "metadata": {
        "colab": {
          "base_uri": "https://localhost:8080/"
        },
        "id": "kYTiZf5xFs4b",
        "outputId": "8e398786-807a-45d0-ecaa-5db8c6f1618f"
      },
      "execution_count": 44,
      "outputs": [
        {
          "output_type": "stream",
          "name": "stdout",
          "text": [
            "[1, 2, 3, 4]\n",
            "(1, 2, 3, 4)\n",
            "{'a': 1, 'b': 2, 'c': 3}\n"
          ]
        }
      ]
    },
    {
      "cell_type": "markdown",
      "source": [
        "27)  Write a code to create a list of 5 random numbers between 1 and 100, sort it in ascending order, and print the\n",
        "result.(replaced)"
      ],
      "metadata": {
        "id": "fqi6YQ0YG8tU"
      }
    },
    {
      "cell_type": "code",
      "source": [
        "import random\n",
        "\n",
        "numbers = [random.sample(range(1, 100), 5)]\n",
        "numbers.sort()\n",
        "print(numbers)"
      ],
      "metadata": {
        "colab": {
          "base_uri": "https://localhost:8080/"
        },
        "id": "l-qX-cTxHxYh",
        "outputId": "ae33733b-5bb3-43ae-9121-ac188ecbfb30"
      },
      "execution_count": 52,
      "outputs": [
        {
          "output_type": "stream",
          "name": "stdout",
          "text": [
            "[[10, 36, 16, 38, 15]]\n"
          ]
        }
      ]
    },
    {
      "cell_type": "markdown",
      "source": [
        "28) Write a code to create a list with strings and print the element at the third index."
      ],
      "metadata": {
        "id": "WTBmkuWOJmCm"
      }
    },
    {
      "cell_type": "code",
      "source": [
        "names = [\"sourav\", \"abhishek\", \"vansh\", \"shivam\"]\n",
        "print(names[3])"
      ],
      "metadata": {
        "colab": {
          "base_uri": "https://localhost:8080/"
        },
        "id": "3GzkYD-KIWDH",
        "outputId": "a01ab102-95f4-4a6d-bf6c-97d46dd868d4"
      },
      "execution_count": 53,
      "outputs": [
        {
          "output_type": "stream",
          "name": "stdout",
          "text": [
            "shivam\n"
          ]
        }
      ]
    },
    {
      "cell_type": "markdown",
      "source": [
        "29) Write a code to combine two dictionaries into one and print the result."
      ],
      "metadata": {
        "id": "WZq_jKniJ3NC"
      }
    },
    {
      "cell_type": "code",
      "source": [
        "dict_1 = {\"a\" : 1, \"b\" : 2}\n",
        "dict_2 = {\"c\" : 3, \"d\" : 4}\n",
        "dict_3 = {**dict_1, **dict_2}\n",
        "print(dict_3)"
      ],
      "metadata": {
        "colab": {
          "base_uri": "https://localhost:8080/"
        },
        "id": "dzV6_jN2Jti_",
        "outputId": "33626f9f-d2f4-4236-f343-6da953dc60b7"
      },
      "execution_count": 54,
      "outputs": [
        {
          "output_type": "stream",
          "name": "stdout",
          "text": [
            "{'a': 1, 'b': 2, 'c': 3, 'd': 4}\n"
          ]
        }
      ]
    },
    {
      "cell_type": "markdown",
      "source": [
        "30) Write a code to convert a list of strings into a set."
      ],
      "metadata": {
        "id": "TQdbP3k9KmMV"
      }
    },
    {
      "cell_type": "code",
      "source": [
        "my_list = [\"a\", \"b\", \"c\", \"d\"]\n",
        "my_set = set(my_list)\n",
        "print(my_set)"
      ],
      "metadata": {
        "colab": {
          "base_uri": "https://localhost:8080/"
        },
        "id": "T_4c6BgWK5Tp",
        "outputId": "6f941b9a-a6ba-4e78-eeb8-9329ce78800c"
      },
      "execution_count": 56,
      "outputs": [
        {
          "output_type": "stream",
          "name": "stdout",
          "text": [
            "{'d', 'c', 'b', 'a'}\n"
          ]
        }
      ]
    },
    {
      "cell_type": "code",
      "source": [],
      "metadata": {
        "id": "8RJ8RyDdLPLc"
      },
      "execution_count": null,
      "outputs": []
    }
  ]
}