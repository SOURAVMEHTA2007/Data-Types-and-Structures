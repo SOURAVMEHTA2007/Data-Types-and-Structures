{
  "nbformat": 4,
  "nbformat_minor": 0,
  "metadata": {
    "colab": {
      "provenance": []
    },
    "kernelspec": {
      "name": "python3",
      "display_name": "Python 3"
    },
    "language_info": {
      "name": "python"
    }
  },
  "cells": [
    {
      "cell_type": "markdown",
      "source": [
        "1) What are data structures, and why are they important?\n",
        "\n",
        "Ans = Data structures are ways of organizing and storing data in a computer so it can be accessed and modified efficiently.\n",
        "\n",
        "data structures important becouse.\n",
        "1. Efficiency\n",
        "2. Organization\n",
        "3. Better problem-solving"
      ],
      "metadata": {
        "id": "tGIGqlDUzAaB"
      }
    },
    {
      "cell_type": "markdown",
      "source": [
        "2) Explain the difference between mutable and immutable data types with examples.\n",
        "\n",
        "Ans =  Mutable Data Type Can be changed after creation. You can add, remove, or modify elements without creating a new object.\n",
        "\n",
        "example =\n",
        "mylist = [1, 2, 3, 4]\n",
        "mylist[0] = 10\n",
        "print(mylist)\n",
        "\n",
        "[10, 2, 3, 4]\n",
        "\n",
        "Immutable Data Type Cannot be changed after creation.If you try to change them, a new object is created instead.\n",
        "\n",
        "example =\n",
        "y_string = \"hello\"\n",
        "my_string = my_string.replace(\"h\", \"y\")\n",
        "print(my_string)\n",
        "\n",
        "\"yello\""
      ],
      "metadata": {
        "id": "J_ckptolzqa2"
      }
    },
    {
      "cell_type": "markdown",
      "source": [
        "3) What are the main differences between lists and tuples in Python?\n",
        "\n",
        "Ans = The main differences between lists and tuples are list is mutable and tuples are immutable."
      ],
      "metadata": {
        "id": "4JA2VSYS0_4o"
      }
    },
    {
      "cell_type": "markdown",
      "source": [
        "4)  Describe how dictionaries store data.\n",
        "\n",
        "Ans = Dictionaries in Python store data using a structure called a hash table, which makes them super fast for looking things up by key."
      ],
      "metadata": {
        "id": "48ZFw17j1rz1"
      }
    },
    {
      "cell_type": "markdown",
      "source": [
        "5) Why might you use a set instead of a list in Python?\n",
        "\n",
        "Ans = useing a set instead of a list in python becouse Sets only store unique values. If you're dealing with data that may have duplicates, sets are perfect for filtering them out. Looking for an item in a set is much faster than in a list. Sets allow for math-like operations."
      ],
      "metadata": {
        "id": "JZIU54I62ces"
      }
    },
    {
      "cell_type": "markdown",
      "source": [
        "6) What is a string in Python, and how is it different from a list?\n",
        "\n",
        "Ans = A string is a sequence of characters (letters, numbers, symbols) enclosed in quotes.Strings are immutable - once created, they cannot be changed.\n",
        "\n",
        "A list is a collection of items (which can be any type: numbers, strings, objects) stored in order. Lists are mutable → you can add, remove, or change items."
      ],
      "metadata": {
        "id": "_QUnNE5T3fCO"
      }
    },
    {
      "cell_type": "markdown",
      "source": [
        "7) How do tuples ensure data integrity in Python?\n",
        "\n",
        "Ans = Tuples help ensure data integrity by being immutable — once a tuple is created, its contents can’t be changed. This immutability protects the data from accidental or intentional modification."
      ],
      "metadata": {
        "id": "eohBvH8n4Pts"
      }
    },
    {
      "cell_type": "markdown",
      "source": [
        "8) What is a hash table, and how does it relate to dictionaries in Python?\n",
        "\n",
        "Ans = A hash table is a data structure that stores key-value pairs and allows for fast data retrieval using a hashing mechanism."
      ],
      "metadata": {
        "id": "j6ktgGTN4ndV"
      }
    },
    {
      "cell_type": "markdown",
      "source": [
        "9) Can lists contain different data types in Python?\n",
        "\n",
        "Ans = Python is a dynamically typed language and lists are heterogeneous it means they can store a mix of data types — all in the same list."
      ],
      "metadata": {
        "id": "TeuTLw6C465r"
      }
    },
    {
      "cell_type": "markdown",
      "source": [
        "10)  Explain why strings are immutable in Python.\n",
        "\n",
        "Ans = Strings are immutable because it helps with memory efficiency. When you create a string, Python stores it in memory and reuses the same object for identical strings. This behavior is called string interning.If strings were mutable (able to be changed), Python would need to create new objects each time the string is modified, which would be less efficient in terms of both memory and processing."
      ],
      "metadata": {
        "id": "5MGiOKLk5ajC"
      }
    },
    {
      "cell_type": "markdown",
      "source": [
        "11) What advantages do dictionaries offer over lists for certain tasks?\n",
        "\n",
        "Ans = Advantages of dictionaries over lists are Fast Lookups by Key, Efficient Key-Value Pair Mapping, Dynamic Data Insertion, No Duplicates (Keys are Unique), Flexible and Complex Data Handling."
      ],
      "metadata": {
        "id": "5NBIzK2452qq"
      }
    },
    {
      "cell_type": "markdown",
      "source": [
        "12)  Describe a scenario where using a tuple would be preferable over a list?\n",
        "\n",
        "Ans = Imagine you're building a GPS application that deals with geographical coordinates (latitude, longitude). These coordinates should never change once they are defined because altering them could lead to incorrect locations or errors.\n",
        "\n",
        "In this case, using a tuple is preferable over a list."
      ],
      "metadata": {
        "id": "8ZhdIiNe66V5"
      }
    },
    {
      "cell_type": "markdown",
      "source": [
        "13)  How do sets handle duplicate values in Python?\n",
        "\n",
        "Ans = In Python, sets automatically handle duplicate values by removing them. Sets are designed to store only unique elements, so if you try to add a duplicate value, it will be ignored."
      ],
      "metadata": {
        "id": "FEpaAO837jJs"
      }
    },
    {
      "cell_type": "markdown",
      "source": [
        "14) How does the “in” keyword work differently for lists and dictionaries?\n",
        "\n",
        "Ans = in with Lists, When used with a list. The in keyword checks if an element is present in the list, meaning it will search through the values in the list.\n",
        "\n",
        "in with Dictionaries, When used with a dictionary. The in keyword checks for keys by default, not values."
      ],
      "metadata": {
        "id": "xDSRO7Fm785r"
      }
    },
    {
      "cell_type": "markdown",
      "source": [
        "15) Can you modify the elements of a tuple? Explain why or why not?\n",
        "\n",
        "Ans = No, we cannot modify the elements of a tuple becouse tuples are immutable."
      ],
      "metadata": {
        "id": "8zi8MXeP8qmc"
      }
    },
    {
      "cell_type": "markdown",
      "source": [
        "16) What is a nested dictionary, and give an example of its use case?\n",
        "\n",
        "Ans = A nested dictionary in Python is a dictionary that contains other dictionaries as its values. It allows you to store data in a hierarchical manner, where you can have dictionaries inside dictionaries, making it useful for representing complex data structures."
      ],
      "metadata": {
        "id": "l9sdxq--9Vun"
      }
    },
    {
      "cell_type": "markdown",
      "source": [
        "17)  Describe the time complexity of accessing elements in a dictionary.\n",
        "\n",
        "Ans = In Python, dictionaries are implemented using hash tables, which allows for efficient lookups. The time complexity for various operations in a dictionary, including accessing elements, can generally be described as follows,\n",
        "\n",
        "1) Accessing an Element by Key.\n",
        "2) Insertion.\n",
        "3) Deleting an Element."
      ],
      "metadata": {
        "id": "gm-phdbW93li"
      }
    },
    {
      "cell_type": "markdown",
      "source": [
        "18) In what situations are lists preferred over dictionaries?\n",
        "\n",
        "Ans = The situations where list perferred over dictionaries are,\n",
        "1) When You Need Ordered Data.\n",
        "2) When You Need to Store Data with Duplicate Elements.\n",
        "3) When You Need a Simple Linear Collection.\n",
        "4) When You Need to Use List-Specific Operations."
      ],
      "metadata": {
        "id": "vjsglGhG-h9C"
      }
    },
    {
      "cell_type": "markdown",
      "source": [
        "19) Why are dictionaries considered unordered, and how does that affect data retrieval?\n",
        "\n",
        "Ans = Dictionaries in Python are considered unordered because the order of the keys in a dictionary is not guaranteed to be preserved."
      ],
      "metadata": {
        "id": "o7fRJ2tP_gjJ"
      }
    },
    {
      "cell_type": "markdown",
      "source": [
        "20) Explain the difference between a list and a dictionary in terms of data retrieval.\n",
        "\n",
        "Ans = The main difference between a list and a dictionary in terms of data retrieval lies in how the data is stored and accessed."
      ],
      "metadata": {
        "id": "buss9xm8_-Di"
      }
    },
    {
      "cell_type": "markdown",
      "source": [
        "**Practical Questions**"
      ],
      "metadata": {
        "id": "BlyqJ2sbAwHC"
      }
    },
    {
      "cell_type": "markdown",
      "source": [
        "1) Write a code to create a string with your name and print it."
      ],
      "metadata": {
        "id": "7skG3z4CA5l6"
      }
    },
    {
      "cell_type": "code",
      "source": [
        "my_name = \"Sourav Mehta\"\n",
        "\n",
        "print(my_name)"
      ],
      "metadata": {
        "colab": {
          "base_uri": "https://localhost:8080/"
        },
        "id": "qxTCl80XAr59",
        "outputId": "1981a073-a0c8-4916-aaec-ec1dbbee8044"
      },
      "execution_count": null,
      "outputs": [
        {
          "output_type": "stream",
          "name": "stdout",
          "text": [
            "Sourav Mehta\n"
          ]
        }
      ]
    },
    {
      "cell_type": "markdown",
      "source": [
        "2) Write a code to find the length of the string \"Hello World\"."
      ],
      "metadata": {
        "id": "rlsB4GWhBiwZ"
      }
    },
    {
      "cell_type": "code",
      "source": [
        "S = \"Hello World\""
      ],
      "metadata": {
        "id": "zXGYc_UlBgoV"
      },
      "execution_count": null,
      "outputs": []
    },
    {
      "cell_type": "code",
      "source": [
        "len(S)"
      ],
      "metadata": {
        "colab": {
          "base_uri": "https://localhost:8080/"
        },
        "id": "a3cQ5QnnCHbJ",
        "outputId": "f9bef38d-93b1-4e5b-f630-34a4f726fde6"
      },
      "execution_count": null,
      "outputs": [
        {
          "output_type": "execute_result",
          "data": {
            "text/plain": [
              "11"
            ]
          },
          "metadata": {},
          "execution_count": 21
        }
      ]
    },
    {
      "cell_type": "markdown",
      "source": [
        "3) Write a code to slice the first 3 characters from the string \"Python Programming\"?"
      ],
      "metadata": {
        "id": "Y4qHHVrxCU3Q"
      }
    },
    {
      "cell_type": "code",
      "source": [
        "text = \"Python Programming\""
      ],
      "metadata": {
        "id": "-rJsQcx8CR5B"
      },
      "execution_count": null,
      "outputs": []
    },
    {
      "cell_type": "code",
      "source": [
        "text[:3]"
      ],
      "metadata": {
        "colab": {
          "base_uri": "https://localhost:8080/",
          "height": 36
        },
        "id": "rsYG127IC2IY",
        "outputId": "fe206062-6565-459c-b764-c92847f6dde6"
      },
      "execution_count": null,
      "outputs": [
        {
          "output_type": "execute_result",
          "data": {
            "text/plain": [
              "'Pyt'"
            ],
            "application/vnd.google.colaboratory.intrinsic+json": {
              "type": "string"
            }
          },
          "metadata": {},
          "execution_count": 13
        }
      ]
    },
    {
      "cell_type": "markdown",
      "source": [
        "4) Write a code to convert the string \"hello\" to uppercase?"
      ],
      "metadata": {
        "id": "7HNeXepdDv4Q"
      }
    },
    {
      "cell_type": "code",
      "source": [
        "A = \"hello\"\n",
        "A.upper()"
      ],
      "metadata": {
        "colab": {
          "base_uri": "https://localhost:8080/",
          "height": 36
        },
        "id": "PZ2sjGEuDia3",
        "outputId": "31f3cb09-aeb6-4f74-c709-e017b7570dc0"
      },
      "execution_count": null,
      "outputs": [
        {
          "output_type": "execute_result",
          "data": {
            "text/plain": [
              "'HELLO'"
            ],
            "application/vnd.google.colaboratory.intrinsic+json": {
              "type": "string"
            }
          },
          "metadata": {},
          "execution_count": 14
        }
      ]
    },
    {
      "cell_type": "markdown",
      "source": [
        "5) Write a code to replace the word \"apple\" with \"orange\" in the string \"I like apple\"?"
      ],
      "metadata": {
        "id": "K66Q_sWdEUD0"
      }
    },
    {
      "cell_type": "code",
      "source": [
        "B = \"I like apple\"\n",
        "B.replace(\"apple\", \"orange\")"
      ],
      "metadata": {
        "colab": {
          "base_uri": "https://localhost:8080/",
          "height": 36
        },
        "id": "S_iR-ogfEN9K",
        "outputId": "fb99ad69-3a39-4b4f-ab3a-32886ba0df65"
      },
      "execution_count": null,
      "outputs": [
        {
          "output_type": "execute_result",
          "data": {
            "text/plain": [
              "'I like orange'"
            ],
            "application/vnd.google.colaboratory.intrinsic+json": {
              "type": "string"
            }
          },
          "metadata": {},
          "execution_count": 15
        }
      ]
    }
  ]
}